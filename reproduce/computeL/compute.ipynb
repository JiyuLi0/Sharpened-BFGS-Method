{
 "cells": [
  {
   "cell_type": "code",
   "execution_count": null,
   "metadata": {},
   "outputs": [
    {
     "name": "stdout",
     "output_type": "stream",
     "text": [
      "dict_keys(['__header__', '__version__', '__globals__', 'H_0'])\n",
      "μ = 0.001000\n",
      "L = 0.124153\n"
     ]
    }
   ],
   "source": [
    "from scipy.io import loadmat\n",
    "data = loadmat('mushrooms.mat')\n",
    "import numpy as np\n",
    "print(data.keys())\n",
    "A=data['H_0']\n",
    "eigenvalues = np.linalg.eigvalsh(A)  \n",
    "mu = np.min(eigenvalues)\n",
    "L = np.max(eigenvalues)\n",
    "print(f\"μ = {mu:.6f}\")\n",
    "print(f\"L = {L:.6f}\")"
   ]
  },
  {
   "cell_type": "code",
   "execution_count": 1,
   "metadata": {},
   "outputs": [
    {
     "name": "stdout",
     "output_type": "stream",
     "text": [
      "dict_keys(['__header__', '__version__', '__globals__', 'H_0'])\n",
      "μ = 0.001000\n",
      "L = 0.163555\n"
     ]
    }
   ],
   "source": [
    "from scipy.io import loadmat\n",
    "data = loadmat('phishing.mat')\n",
    "import numpy as np\n",
    "print(data.keys())\n",
    "A=data['H_0']\n",
    "eigenvalues = np.linalg.eigvalsh(A)\n",
    "mu = np.min(eigenvalues)\n",
    "L = np.max(eigenvalues)\n",
    "print(f\"μ = {mu:.6f}\")\n",
    "print(f\"L = {L:.6f}\")\n",
    "\n"
   ]
  },
  {
   "cell_type": "code",
   "execution_count": 2,
   "metadata": {},
   "outputs": [
    {
     "name": "stdout",
     "output_type": "stream",
     "text": [
      "dict_keys(['__header__', '__version__', '__globals__', 'H_0'])\n",
      "μ = 0.010000\n",
      "L = 0.206139\n"
     ]
    }
   ],
   "source": [
    "from scipy.io import loadmat\n",
    "data = loadmat('svmguide3.mat')\n",
    "import numpy as np\n",
    "print(data.keys())\n",
    "A=data['H_0']\n",
    "eigenvalues = np.linalg.eigvalsh(A)\n",
    "mu = np.min(eigenvalues)\n",
    "L = np.max(eigenvalues)\n",
    "print(f\"μ = {mu:.6f}\")\n",
    "print(f\"L = {L:.6f}\")\n"
   ]
  },
  {
   "cell_type": "code",
   "execution_count": 3,
   "metadata": {},
   "outputs": [
    {
     "name": "stdout",
     "output_type": "stream",
     "text": [
      "dict_keys(['__header__', '__version__', '__globals__', 'H_0'])\n",
      "μ = 0.001000\n",
      "L = 0.114206\n"
     ]
    }
   ],
   "source": [
    "from scipy.io import loadmat\n",
    "data = loadmat('a9a.mat')\n",
    "import numpy as np\n",
    "print(data.keys())\n",
    "A=data['H_0']\n",
    "eigenvalues = np.linalg.eigvalsh(A) \n",
    "mu = np.min(eigenvalues)\n",
    "L = np.max(eigenvalues)\n",
    "print(f\"μ = {mu:.6f}\")\n",
    "print(f\"L = {L:.6f}\")\n"
   ]
  },
  {
   "cell_type": "code",
   "execution_count": 4,
   "metadata": {},
   "outputs": [
    {
     "name": "stdout",
     "output_type": "stream",
     "text": [
      "dict_keys(['__header__', '__version__', '__globals__', 'H_0'])\n",
      "μ = 0.000100\n",
      "L = 0.185800\n"
     ]
    }
   ],
   "source": [
    "from scipy.io import loadmat\n",
    "data = loadmat('connect4.mat')\n",
    "import numpy as np\n",
    "print(data.keys())\n",
    "A=data['H_0']\n",
    "eigenvalues = np.linalg.eigvalsh(A)  \n",
    "mu = np.min(eigenvalues)\n",
    "L = np.max(eigenvalues)\n",
    "print(f\"μ = {mu:.6f}\")\n",
    "print(f\"L = {L:.6f}\")\n"
   ]
  },
  {
   "cell_type": "code",
   "execution_count": 5,
   "metadata": {},
   "outputs": [
    {
     "name": "stdout",
     "output_type": "stream",
     "text": [
      "dict_keys(['__header__', '__version__', '__globals__', 'H_0'])\n",
      "μ = 0.000100\n",
      "L = 0.032847\n"
     ]
    }
   ],
   "source": [
    "from scipy.io import loadmat\n",
    "data = loadmat('w8a.mat')\n",
    "import numpy as np\n",
    "print(data.keys())\n",
    "A=data['H_0']\n",
    "eigenvalues = np.linalg.eigvalsh(A) \n",
    "mu = np.min(eigenvalues)\n",
    "L = np.max(eigenvalues)\n",
    "print(f\"μ = {mu:.6f}\")\n",
    "print(f\"L = {L:.6f}\")\n"
   ]
  },
  {
   "cell_type": "code",
   "execution_count": 6,
   "metadata": {},
   "outputs": [
    {
     "name": "stdout",
     "output_type": "stream",
     "text": [
      "dict_keys(['__header__', '__version__', '__globals__', 'H_0'])\n",
      "μ = 0.000010\n",
      "L = 0.036500\n"
     ]
    }
   ],
   "source": [
    "from scipy.io import loadmat\n",
    "data = loadmat('colon-cancer.mat')\n",
    "import numpy as np\n",
    "print(data.keys())\n",
    "A=data['H_0']\n",
    "eigenvalues = np.linalg.eigvalsh(A) \n",
    "mu = np.min(eigenvalues)\n",
    "L = np.max(eigenvalues)\n",
    "print(f\"μ = {mu:.6f}\")\n",
    "print(f\"L = {L:.6f}\")\n"
   ]
  },
  {
   "cell_type": "code",
   "execution_count": 8,
   "metadata": {},
   "outputs": [
    {
     "name": "stdout",
     "output_type": "stream",
     "text": [
      "dict_keys(['__header__', '__version__', '__globals__', 'H_0'])\n",
      "μ = 0.000010\n",
      "L = 0.181031\n"
     ]
    }
   ],
   "source": [
    "from scipy.io import loadmat\n",
    "data = loadmat('gisette.mat')\n",
    "import numpy as np\n",
    "print(data.keys())\n",
    "A=data['H_0']\n",
    "eigenvalues = np.linalg.eigvalsh(A) \n",
    "mu = np.min(eigenvalues)\n",
    "L = np.max(eigenvalues)\n",
    "print(f\"μ = {mu:.6f}\")\n",
    "print(f\"L = {L:.6f}\")"
   ]
  }
 ],
 "metadata": {
  "kernelspec": {
   "display_name": "solveuse",
   "language": "python",
   "name": "python3"
  },
  "language_info": {
   "codemirror_mode": {
    "name": "ipython",
    "version": 3
   },
   "file_extension": ".py",
   "mimetype": "text/x-python",
   "name": "python",
   "nbconvert_exporter": "python",
   "pygments_lexer": "ipython3",
   "version": "3.12.9"
  }
 },
 "nbformat": 4,
 "nbformat_minor": 2
}
